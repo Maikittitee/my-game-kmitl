{
 "cells": [
  {
   "cell_type": "code",
   "execution_count": 4,
   "id": "aee6c934",
   "metadata": {},
   "outputs": [
    {
     "ename": "AttributeError",
     "evalue": "'Player' object has no attribute 'rect'",
     "output_type": "error",
     "traceback": [
      "\u001b[0;31m---------------------------------------------------------------------------\u001b[0m",
      "\u001b[0;31mAttributeError\u001b[0m                            Traceback (most recent call last)",
      "Input \u001b[0;32mIn [4]\u001b[0m, in \u001b[0;36m<cell line: 32>\u001b[0;34m()\u001b[0m\n\u001b[1;32m     32\u001b[0m \u001b[38;5;28;01mwhile\u001b[39;00m run:\n\u001b[1;32m     34\u001b[0m     screen\u001b[38;5;241m.\u001b[39mblit(bg_image, (\u001b[38;5;241m0\u001b[39m, \u001b[38;5;241m0\u001b[39m))\n\u001b[0;32m---> 36\u001b[0m     \u001b[43mjumpy\u001b[49m\u001b[38;5;241;43m.\u001b[39;49m\u001b[43mdraw\u001b[49m\u001b[43m(\u001b[49m\u001b[43m)\u001b[49m\n\u001b[1;32m     38\u001b[0m     \u001b[38;5;28;01mfor\u001b[39;00m event \u001b[38;5;129;01min\u001b[39;00m pygame\u001b[38;5;241m.\u001b[39mevent\u001b[38;5;241m.\u001b[39mget():\n\u001b[1;32m     39\u001b[0m         \u001b[38;5;28;01mif\u001b[39;00m event\u001b[38;5;241m.\u001b[39mtype \u001b[38;5;241m==\u001b[39m pygame\u001b[38;5;241m.\u001b[39mQUIT:\n",
      "Input \u001b[0;32mIn [4]\u001b[0m, in \u001b[0;36mPlayer.draw\u001b[0;34m(self)\u001b[0m\n\u001b[1;32m     24\u001b[0m \u001b[38;5;28;01mdef\u001b[39;00m \u001b[38;5;21mdraw\u001b[39m(\u001b[38;5;28mself\u001b[39m):\n\u001b[0;32m---> 25\u001b[0m     screen\u001b[38;5;241m.\u001b[39mblit(\u001b[38;5;28mself\u001b[39m\u001b[38;5;241m.\u001b[39mimage, (\u001b[38;5;28;43mself\u001b[39;49m\u001b[38;5;241;43m.\u001b[39;49m\u001b[43mrect\u001b[49m\u001b[38;5;241m.\u001b[39mx \u001b[38;5;241m-\u001b[39m \u001b[38;5;241m12\u001b[39m, \u001b[38;5;28mself\u001b[39m\u001b[38;5;241m.\u001b[39mrect\u001b[38;5;241m.\u001b[39my \u001b[38;5;241m-\u001b[39m \u001b[38;5;241m5\u001b[39m))\n",
      "\u001b[0;31mAttributeError\u001b[0m: 'Player' object has no attribute 'rect'"
     ]
    }
   ],
   "source": [
    "import pygame\n",
    "\n",
    "pygame.init()\n",
    "\n",
    "SCREEN_WIDTH = 400\n",
    "SCREEN_HEIGHT = 600\n",
    "\n",
    "screen = pygame.display.set_mode((SCREEN_WIDTH, SCREEN_HEIGHT))\n",
    "pygame.display.set_caption('jumpy')\n",
    "\n",
    "bg_image = pygame.image.load('bg.jpg').convert_alpha()\n",
    "jumpy_image = pygame.image.load('confused.png').convert_alpha()\n",
    "\n",
    "WHITE = (255, 255, 255)\n",
    "\n",
    "class Player():\n",
    "    def __init__(self, x, y):\n",
    "        self.image = pygame.transform.scale(jumpy_image, (45, 45))\n",
    "        self.width = 25\n",
    "        self.height = 40\n",
    "        self.rect = pygame.Rect(0, 0, self.width, self.height)\n",
    "        self.rect.center = (x, y)\n",
    "\n",
    "    def draw(self):\n",
    "        screen.blit(self.image, (self.rect.x - 12, self.rect.y - 5))\n",
    "        pygame.draw.rect(screen, WHITE, self.rect, 2)\n",
    "\n",
    "\n",
    "jumpy = Player(SCREEN_WIDTH // 2, SCREEN_HEIGHT - 150)\n",
    "\n",
    "run = True\n",
    "while run:\n",
    "\n",
    "    screen.blit(bg_image, (0, 0))\n",
    "    \n",
    "    jumpy.draw()\n",
    "    \n",
    "    for event in pygame.event.get():\n",
    "        if event.type == pygame.QUIT:\n",
    "            run = False\n",
    "    pygame.display.update()\n",
    "\n",
    "\n",
    "\n",
    "pygame.quit()"
   ]
  },
  {
   "cell_type": "code",
   "execution_count": null,
   "id": "33bec049",
   "metadata": {},
   "outputs": [],
   "source": []
  },
  {
   "cell_type": "code",
   "execution_count": null,
   "id": "f8a95e85",
   "metadata": {},
   "outputs": [],
   "source": []
  }
 ],
 "metadata": {
  "kernelspec": {
   "display_name": "Python 3 (ipykernel)",
   "language": "python",
   "name": "python3"
  },
  "language_info": {
   "codemirror_mode": {
    "name": "ipython",
    "version": 3
   },
   "file_extension": ".py",
   "mimetype": "text/x-python",
   "name": "python",
   "nbconvert_exporter": "python",
   "pygments_lexer": "ipython3",
   "version": "3.9.12"
  }
 },
 "nbformat": 4,
 "nbformat_minor": 5
}
